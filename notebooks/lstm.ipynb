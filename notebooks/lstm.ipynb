{
 "cells": [
  {
   "cell_type": "code",
   "execution_count": 1,
   "id": "0c7ee860",
   "metadata": {},
   "outputs": [],
   "source": [
    "import pandas as pd\n",
    "import numpy as np\n",
    "import matplotlib.pyplot as plt\n",
    "import matplotlib.ticker as ticker\n",
    "\n",
    "from sklearn.preprocessing import MinMaxScaler\n",
    "from sklearn.model_selection import train_test_split\n",
    "\n",
    "import torch\n",
    "import torch.nn as nn\n",
    "from torch.utils.data import TensorDataset, DataLoader"
   ]
  },
  {
   "cell_type": "code",
   "execution_count": 2,
   "id": "d760e470",
   "metadata": {},
   "outputs": [
    {
     "name": "stdout",
     "output_type": "stream",
     "text": [
      "Using device: cuda\n"
     ]
    }
   ],
   "source": [
    "device = \"cuda\" if torch.cuda.is_available else \"cpu\"\n",
    "print(f\"Using device: {device}\")"
   ]
  },
  {
   "cell_type": "code",
   "execution_count": 3,
   "id": "793381a1",
   "metadata": {},
   "outputs": [
    {
     "data": {
      "text/html": [
       "<div>\n",
       "<style scoped>\n",
       "    .dataframe tbody tr th:only-of-type {\n",
       "        vertical-align: middle;\n",
       "    }\n",
       "\n",
       "    .dataframe tbody tr th {\n",
       "        vertical-align: top;\n",
       "    }\n",
       "\n",
       "    .dataframe thead th {\n",
       "        text-align: right;\n",
       "    }\n",
       "</style>\n",
       "<table border=\"1\" class=\"dataframe\">\n",
       "  <thead>\n",
       "    <tr style=\"text-align: right;\">\n",
       "      <th></th>\n",
       "      <th>Date</th>\n",
       "      <th>Open</th>\n",
       "      <th>High</th>\n",
       "      <th>Low</th>\n",
       "      <th>Close</th>\n",
       "      <th>Adj Close</th>\n",
       "      <th>Volume</th>\n",
       "    </tr>\n",
       "  </thead>\n",
       "  <tbody>\n",
       "    <tr>\n",
       "      <th>0</th>\n",
       "      <td>2004-08-19</td>\n",
       "      <td>50.050049</td>\n",
       "      <td>52.082081</td>\n",
       "      <td>48.028027</td>\n",
       "      <td>50.220219</td>\n",
       "      <td>50.220219</td>\n",
       "      <td>44659096</td>\n",
       "    </tr>\n",
       "    <tr>\n",
       "      <th>1</th>\n",
       "      <td>2004-08-20</td>\n",
       "      <td>50.555557</td>\n",
       "      <td>54.594597</td>\n",
       "      <td>50.300301</td>\n",
       "      <td>54.209209</td>\n",
       "      <td>54.209209</td>\n",
       "      <td>22834343</td>\n",
       "    </tr>\n",
       "    <tr>\n",
       "      <th>2</th>\n",
       "      <td>2004-08-23</td>\n",
       "      <td>55.430431</td>\n",
       "      <td>56.796799</td>\n",
       "      <td>54.579578</td>\n",
       "      <td>54.754753</td>\n",
       "      <td>54.754753</td>\n",
       "      <td>18256126</td>\n",
       "    </tr>\n",
       "    <tr>\n",
       "      <th>3</th>\n",
       "      <td>2004-08-24</td>\n",
       "      <td>55.675674</td>\n",
       "      <td>55.855858</td>\n",
       "      <td>51.836838</td>\n",
       "      <td>52.487488</td>\n",
       "      <td>52.487488</td>\n",
       "      <td>15247337</td>\n",
       "    </tr>\n",
       "    <tr>\n",
       "      <th>4</th>\n",
       "      <td>2004-08-25</td>\n",
       "      <td>52.532532</td>\n",
       "      <td>54.054054</td>\n",
       "      <td>51.991993</td>\n",
       "      <td>53.053055</td>\n",
       "      <td>53.053055</td>\n",
       "      <td>9188602</td>\n",
       "    </tr>\n",
       "  </tbody>\n",
       "</table>\n",
       "</div>"
      ],
      "text/plain": [
       "         Date       Open       High        Low      Close  Adj Close    Volume\n",
       "0  2004-08-19  50.050049  52.082081  48.028027  50.220219  50.220219  44659096\n",
       "1  2004-08-20  50.555557  54.594597  50.300301  54.209209  54.209209  22834343\n",
       "2  2004-08-23  55.430431  56.796799  54.579578  54.754753  54.754753  18256126\n",
       "3  2004-08-24  55.675674  55.855858  51.836838  52.487488  52.487488  15247337\n",
       "4  2004-08-25  52.532532  54.054054  51.991993  53.053055  53.053055   9188602"
      ]
     },
     "execution_count": 3,
     "metadata": {},
     "output_type": "execute_result"
    }
   ],
   "source": [
    "# Load data\n",
    "\n",
    "df = pd.read_csv(\"../data/GOOGL.csv\")\n",
    "df.head()"
   ]
  },
  {
   "cell_type": "code",
   "execution_count": 4,
   "id": "71953323",
   "metadata": {},
   "outputs": [
    {
     "name": "stdout",
     "output_type": "stream",
     "text": [
      "<class 'pandas.core.frame.DataFrame'>\n",
      "RangeIndex: 4431 entries, 0 to 4430\n",
      "Data columns (total 7 columns):\n",
      " #   Column     Non-Null Count  Dtype  \n",
      "---  ------     --------------  -----  \n",
      " 0   Date       4431 non-null   object \n",
      " 1   Open       4431 non-null   float64\n",
      " 2   High       4431 non-null   float64\n",
      " 3   Low        4431 non-null   float64\n",
      " 4   Close      4431 non-null   float64\n",
      " 5   Adj Close  4431 non-null   float64\n",
      " 6   Volume     4431 non-null   int64  \n",
      "dtypes: float64(5), int64(1), object(1)\n",
      "memory usage: 242.4+ KB\n"
     ]
    }
   ],
   "source": [
    "df.info()"
   ]
  },
  {
   "cell_type": "code",
   "execution_count": 5,
   "id": "e7a0b44d",
   "metadata": {},
   "outputs": [
    {
     "data": {
      "text/plain": [
       "array([[  50.050049,   52.082081,   48.028027,   50.220219],\n",
       "       [  50.555557,   54.594597,   50.300301,   54.209209],\n",
       "       [  55.430431,   56.796799,   54.579578,   54.754753],\n",
       "       ...,\n",
       "       [2722.030029, 2821.      , 2722.030029, 2797.360107],\n",
       "       [2774.050049, 2791.77002 , 2756.699951, 2765.51001 ],\n",
       "       [2784.      , 2832.379883, 2755.01001 , 2831.439941]])"
      ]
     },
     "execution_count": 5,
     "metadata": {},
     "output_type": "execute_result"
    }
   ],
   "source": [
    "# Select columns for training\n",
    "\n",
    "data = df[[\"Open\", \"High\", \"Low\", \"Close\"]].values\n",
    "data"
   ]
  },
  {
   "cell_type": "code",
   "execution_count": 6,
   "id": "6572eff2",
   "metadata": {},
   "outputs": [
    {
     "data": {
      "text/plain": [
       "array([[1.36253641e-04, 3.89649828e-04, 0.00000000e+00, 5.60505519e-05],\n",
       "       [3.06152003e-04, 1.23277345e-03, 7.75532854e-04, 1.40975800e-03],\n",
       "       [1.94456941e-03, 1.97176518e-03, 2.23606090e-03, 1.59489433e-03],\n",
       "       [2.02699418e-03, 1.65601412e-03, 1.29995681e-03, 8.25473121e-04],\n",
       "       [9.70602048e-04, 1.05138373e-03, 1.35291161e-03, 1.01740448e-03]])"
      ]
     },
     "execution_count": 6,
     "metadata": {},
     "output_type": "execute_result"
    }
   ],
   "source": [
    "# Normalize data\n",
    "scaler = MinMaxScaler(feature_range=(0, 1))\n",
    "scaled_data = scaler.fit_transform(data)\n",
    "scaled_data[:5]"
   ]
  },
  {
   "cell_type": "code",
   "execution_count": 7,
   "id": "5d3fa148",
   "metadata": {},
   "outputs": [],
   "source": [
    "# Create sequences\n",
    "\n",
    "def create_sequences(data, seq_length):\n",
    "    X, y = [], []\n",
    "    for i in range(len(data) - seq_length):\n",
    "        X.append(data[i:i+seq_length])\n",
    "        y.append(data[i+seq_length, 3])  # 3 = Close column index\n",
    "    return np.array(X), np.array(y)\n",
    "\n",
    "SEQ_LEN = 30\n",
    "X, y = create_sequences(scaled_data, SEQ_LEN)"
   ]
  },
  {
   "cell_type": "code",
   "execution_count": 8,
   "id": "2971f620",
   "metadata": {},
   "outputs": [],
   "source": [
    "# Train-test split\n",
    "\n",
    "X_train, X_test, y_train, y_test = train_test_split(X, y, test_size=0.2)"
   ]
  },
  {
   "cell_type": "code",
   "execution_count": 9,
   "id": "44bc4499",
   "metadata": {},
   "outputs": [],
   "source": [
    "# Convert to tensors\n",
    "\n",
    "X_train_tensor = torch.tensor(X_train, dtype=torch.float32)\n",
    "y_train_tensor = torch.tensor(y_train, dtype=torch.float32).unsqueeze(1)\n",
    "X_test_tensor = torch.tensor(X_test, dtype=torch.float32)\n",
    "y_test_tensor = torch.tensor(y_test, dtype=torch.float32).unsqueeze(1)"
   ]
  },
  {
   "cell_type": "code",
   "execution_count": 10,
   "id": "0e02210d",
   "metadata": {},
   "outputs": [],
   "source": [
    "# Create datasets\n",
    "\n",
    "train_dataset = TensorDataset(X_train_tensor, y_train_tensor)\n",
    "test_dataset = TensorDataset(X_test_tensor, y_test_tensor)"
   ]
  },
  {
   "cell_type": "code",
   "execution_count": 11,
   "id": "770438d4",
   "metadata": {},
   "outputs": [],
   "source": [
    "# Create dataloaders\n",
    "\n",
    "BATCH_SIZE = 32\n",
    "train_dataloader = DataLoader(train_dataset, batch_size=BATCH_SIZE, shuffle=True)\n",
    "test_dataloader = DataLoader(test_dataset, batch_size=BATCH_SIZE, shuffle=False)"
   ]
  },
  {
   "cell_type": "code",
   "execution_count": 12,
   "id": "c1029171",
   "metadata": {},
   "outputs": [
    {
     "name": "stdout",
     "output_type": "stream",
     "text": [
      "Training dataset | Size: 3520 | Batches: 110\n",
      "Test dataset | Size: 881 | Batches: 28\n"
     ]
    }
   ],
   "source": [
    "print(f\"Training dataset | Size: {len(train_dataset)} | Batches: {len(train_dataloader)}\")\n",
    "print(f\"Test dataset | Size: {len(test_dataset)} | Batches: {len(test_dataloader)}\")"
   ]
  },
  {
   "cell_type": "code",
   "execution_count": 21,
   "id": "01b33124",
   "metadata": {},
   "outputs": [],
   "source": [
    "# Model\n",
    "\n",
    "class StockLSTM(nn.Module):\n",
    "    def __init__(self,\n",
    "                 input_size: int,\n",
    "                 hidden_size: int,\n",
    "                 output_size: int):\n",
    "        super(StockLSTM, self).__init__()\n",
    "\n",
    "        self.hidden_size = hidden_size\n",
    "\n",
    "        self.forget_gate = nn.Linear(in_features=input_size + hidden_size, out_features=hidden_size)\n",
    "        self.update_gate = nn.Linear(in_features=input_size + hidden_size, out_features=hidden_size)\n",
    "        self.cell_gate = nn.Linear(in_features=input_size + hidden_size, out_features=hidden_size)\n",
    "        self.output_gate = nn.Linear(in_features=input_size + hidden_size, out_features=hidden_size)\n",
    "\n",
    "        self.fc = nn.Linear(in_features=hidden_size, out_features=output_size)\n",
    "\n",
    "        self.tanh = nn.Tanh()\n",
    "        self.sigmoid = nn.Sigmoid()\n",
    "\n",
    "    def forward(self, x):\n",
    "        # shape: (batch_size, seq_len, input_size)\n",
    "        batch_size, seq_len, _ = x.size()\n",
    "\n",
    "        h = torch.zeros(batch_size, self.hidden_size, device=x.device)\n",
    "        C = torch.zeros(batch_size, self.hidden_size, device=x.device)\n",
    "\n",
    "        for t in range(seq_len):\n",
    "            x_t = x[:, t, :]  # (batch_size, input_size)\n",
    "            combined = torch.cat((x_t, h), dim=1)  # concat input + hidden\n",
    "\n",
    "            f_t = self.sigmoid(self.forget_gate(combined))\n",
    "            u_t = self.sigmoid(self.update_gate(combined))\n",
    "            C_tilde = self.tanh(self.cell_gate(combined))\n",
    "            o_t = self.sigmoid(self.output_gate(combined))\n",
    "\n",
    "            C *= f_t\n",
    "            C += u_t * C_tilde\n",
    "            h = o_t * self.tanh(C)\n",
    "\n",
    "        out = self.fc(h)\n",
    "        return out\n"
   ]
  },
  {
   "cell_type": "code",
   "execution_count": 22,
   "id": "e77cc7be",
   "metadata": {},
   "outputs": [
    {
     "data": {
      "text/plain": [
       "StockLSTM(\n",
       "  (forget_gate): Linear(in_features=68, out_features=64, bias=True)\n",
       "  (update_gate): Linear(in_features=68, out_features=64, bias=True)\n",
       "  (cell_gate): Linear(in_features=68, out_features=64, bias=True)\n",
       "  (output_gate): Linear(in_features=68, out_features=64, bias=True)\n",
       "  (fc): Linear(in_features=64, out_features=1, bias=True)\n",
       "  (tanh): Tanh()\n",
       "  (sigmoid): Sigmoid()\n",
       ")"
      ]
     },
     "execution_count": 22,
     "metadata": {},
     "output_type": "execute_result"
    }
   ],
   "source": [
    "model = StockLSTM(input_size=X_train.shape[2],\n",
    "                 hidden_size=64,\n",
    "                 output_size=1).to(device)\n",
    "model"
   ]
  },
  {
   "cell_type": "code",
   "execution_count": 23,
   "id": "615025c6",
   "metadata": {},
   "outputs": [
    {
     "name": "stdout",
     "output_type": "stream",
     "text": [
      "Parameter count: 17729\n"
     ]
    }
   ],
   "source": [
    "print(f\"Parameter count: {sum(p.numel() for p in model.parameters())}\")"
   ]
  },
  {
   "cell_type": "code",
   "execution_count": 24,
   "id": "5cfd9e37",
   "metadata": {},
   "outputs": [],
   "source": [
    "criterion = nn.MSELoss()\n",
    "optimizer = torch.optim.Adam(params=model.parameters(),\n",
    "                             lr=0.0001)"
   ]
  },
  {
   "cell_type": "code",
   "execution_count": 25,
   "id": "3e8634c5",
   "metadata": {},
   "outputs": [],
   "source": [
    "def train_step():\n",
    "    model.train()\n",
    "\n",
    "    train_loss = 0.0\n",
    "\n",
    "    for i, (X, y) in enumerate(train_dataloader):\n",
    "        # Carry tensors to device\n",
    "        X = X.to(device)\n",
    "        y = y.to(device)\n",
    "\n",
    "        # Forward pass\n",
    "        y_preds = model(X)\n",
    "\n",
    "        # Loss\n",
    "        loss = criterion(y_preds, y)\n",
    "        train_loss += loss\n",
    "\n",
    "        # Backprop\n",
    "        optimizer.zero_grad()\n",
    "        loss.backward()\n",
    "        optimizer.step()\n",
    "\n",
    "    # Get average loss\n",
    "    train_loss /= len(train_dataloader)\n",
    "\n",
    "    return train_loss\n"
   ]
  },
  {
   "cell_type": "code",
   "execution_count": 26,
   "id": "c56dcefe",
   "metadata": {},
   "outputs": [],
   "source": [
    "def test_step():\n",
    "    model.eval()\n",
    "\n",
    "    test_loss = 0.0\n",
    "\n",
    "    for i, (X, y) in enumerate(test_dataloader):\n",
    "        # Carry tensors to device\n",
    "        X = X.to(device)\n",
    "        y = y.to(device)\n",
    "\n",
    "        # Forward pass\n",
    "        y_preds = model(X)\n",
    "\n",
    "        # Loss\n",
    "        loss = criterion(y_preds, y)\n",
    "        test_loss += loss\n",
    "\n",
    "    # Get average loss\n",
    "    test_loss /= len(test_dataloader)\n",
    "\n",
    "    return test_loss\n"
   ]
  },
  {
   "cell_type": "code",
   "execution_count": 27,
   "id": "11291a9b",
   "metadata": {},
   "outputs": [
    {
     "data": {
      "text/plain": [
       "{'model': 'StockLSTM(\\n  (forget_gate): Linear(in_features=68, out_features=64, bias=True)\\n  (update_gate): Linear(in_features=68, out_features=64, bias=True)\\n  (cell_gate): Linear(in_features=68, out_features=64, bias=True)\\n  (output_gate): Linear(in_features=68, out_features=64, bias=True)\\n  (fc): Linear(in_features=64, out_features=1, bias=True)\\n  (tanh): Tanh()\\n  (sigmoid): Sigmoid()\\n)',\n",
       " 'train_losses': [],\n",
       " 'test_losses': []}"
      ]
     },
     "execution_count": 27,
     "metadata": {},
     "output_type": "execute_result"
    }
   ],
   "source": [
    "# Initialize metrics\n",
    "\n",
    "metrics = {}\n",
    "metrics[\"model\"] = str(model)\n",
    "metrics[\"train_losses\"] = []\n",
    "metrics[\"test_losses\"] = []\n",
    "\n",
    "metrics"
   ]
  },
  {
   "cell_type": "code",
   "execution_count": 28,
   "id": "6b7a1f9f",
   "metadata": {},
   "outputs": [
    {
     "name": "stdout",
     "output_type": "stream",
     "text": [
      "Epoch: 0 | Train Loss: 0.084531418979 | Test Loss: 0.042472433299\n",
      "Epoch: 1 | Train Loss: 0.012135663070 | Test Loss: 0.001908200560\n",
      "Epoch: 2 | Train Loss: 0.001327735605 | Test Loss: 0.001038972754\n",
      "Epoch: 3 | Train Loss: 0.000793105690 | Test Loss: 0.000616853533\n",
      "Epoch: 4 | Train Loss: 0.000502809824 | Test Loss: 0.000431302586\n",
      "Epoch: 5 | Train Loss: 0.000372854876 | Test Loss: 0.000344054977\n",
      "Epoch: 6 | Train Loss: 0.000318983191 | Test Loss: 0.000308366667\n",
      "Epoch: 7 | Train Loss: 0.000292129582 | Test Loss: 0.000293517893\n",
      "Epoch: 8 | Train Loss: 0.000268594595 | Test Loss: 0.000265164708\n",
      "Epoch: 9 | Train Loss: 0.000251162914 | Test Loss: 0.000254109444\n"
     ]
    }
   ],
   "source": [
    "# Training loop\n",
    "\n",
    "epochs = 10\n",
    "epoch_print_interval = epochs / 10\n",
    "\n",
    "for epoch in range(epochs):\n",
    "    train_loss = train_step()\n",
    "    test_loss = test_step()\n",
    "    \n",
    "    metrics[\"train_losses\"].append(train_loss.item())\n",
    "    metrics[\"test_losses\"].append(test_loss.item())\n",
    "\n",
    "    if epoch % epoch_print_interval == 0 or epoch == epochs-1:\n",
    "        print(f\"Epoch: {epoch} | Train Loss: {train_loss:.12f} | Test Loss: {test_loss:.12f}\")"
   ]
  },
  {
   "cell_type": "code",
   "execution_count": 29,
   "id": "071f9e55",
   "metadata": {},
   "outputs": [
    {
     "data": {
      "image/png": "[encoded data removed]",
      "text/plain": [
       "<Figure size 1500x600 with 1 Axes>"
      ]
     },
     "metadata": {},
     "output_type": "display_data"
    }
   ],
   "source": [
    "# We don't show the first epoch because starting loss and after convergence is hude, makes the plot harder to read\n",
    "\n",
    "x = range(1, len(metrics[\"train_losses\"]))\n",
    "\n",
    "plt.figure(figsize=(15, 6))\n",
    "\n",
    "plt.plot(x, metrics[\"train_losses\"][1:], label=\"Train Losses\")\n",
    "plt.plot(x, metrics[\"test_losses\"][1:], label=\"Test Losses\")\n",
    "\n",
    "plt.title(\"Loss\")\n",
    "plt.legend()\n",
    "plt.show()"
   ]
  }
 ],
 "metadata": {
  "kernelspec": {
   "display_name": "Python 3",
   "language": "python",
   "name": "python3"
  },
  "language_info": {
   "codemirror_mode": {
    "name": "ipython",
    "version": 3
   },
   "file_extension": ".py",
   "mimetype": "text/x-python",
   "name": "python",
   "nbconvert_exporter": "python",
   "pygments_lexer": "ipython3",
   "version": "3.10.6"
  }
 },
 "nbformat": 4,
 "nbformat_minor": 5
}
